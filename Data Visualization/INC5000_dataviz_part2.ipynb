{
 "cells": [
  {
   "cell_type": "markdown",
   "id": "d1f6788f",
   "metadata": {},
   "source": [
    "# Final Project, Part 2 - Group 66 \n",
    "\n",
    "Group Members: Yiqing Li, Tianci Zheng"
   ]
  },
  {
   "cell_type": "markdown",
   "id": "b2d6e2fa",
   "metadata": {},
   "source": [
    "## Dataset\n",
    "\n",
    "After cleaning and processing the original data file, we have successfully uploaded the \"cleaned\" data file on our GitHub page since the file size is permitted (843 KB). The link is https://raw.githubusercontent.com/TianciZheng/TianciZheng.github.io/main/cleaned_inc5000-2019.csv"
   ]
  },
  {
   "cell_type": "markdown",
   "id": "01c22cbe",
   "metadata": {},
   "source": [
    "## Dashboard "
   ]
  },
  {
   "cell_type": "code",
   "execution_count": 4,
   "id": "649a259e",
   "metadata": {},
   "outputs": [],
   "source": [
    "import altair as alt"
   ]
  },
  {
   "cell_type": "code",
   "execution_count": 5,
   "id": "d8ff817d",
   "metadata": {},
   "outputs": [],
   "source": [
    "brush = alt.selection_interval(encodings=['x','y'])"
   ]
  },
  {
   "cell_type": "code",
   "execution_count": 6,
   "id": "1f67efdf",
   "metadata": {},
   "outputs": [],
   "source": [
    "#heatmap\n",
    "heatmap = alt.Chart.from_dict({\n",
    "  \"data\": {\n",
    "    \"url\": \"https://raw.githubusercontent.com/TianciZheng/TianciZheng.github.io/main/cleaned_inc5000-2019.csv\"\n",
    "  },\n",
    "  \"mark\": \"rect\",\n",
    "  \"encoding\": {\n",
    "    \"x\": {\"field\": \"industry\", \"type\": \"ordinal\"},\n",
    "    \"y\": {\"field\": \"state\", \"type\": \"ordinal\"},\n",
    "    \"color\":{\"aggregate\":\"count\", \"type\":\"quantitative\"}\n",
    "  },\n",
    "  \"height\": 500,\n",
    "  \"width\": 400,\n",
    "}).add_selection(\n",
    "    brush\n",
    ")\n",
    "\n"
   ]
  },
  {
   "cell_type": "code",
   "execution_count": 7,
   "id": "09159398",
   "metadata": {},
   "outputs": [],
   "source": [
    "\n",
    "bar = alt.Chart.from_dict({\n",
    "  \"data\": {\n",
    "    \"url\": \"https://raw.githubusercontent.com/TianciZheng/TianciZheng.github.io/main/cleaned_inc5000-2019.csv\"\n",
    "  },\n",
    "  \"mark\": \"bar\",\n",
    "  \"encoding\": {\n",
    "    \"x\": {\"field\": \"yrs_on_list\", \"type\": \"ordinal\",\"sort\":\"-y\", \"title\":\"Years on the list\"},\n",
    "    \"y\": {\"aggregate\": \"average\", \"field\": \"revenue_in_million\", \"type\": \"quantitative\", \"title\":\"Average of revenues in millions\"}\n",
    "  },\n",
    "  \"height\": 500,\n",
    "  \"width\": 300,\n",
    "}\n",
    ").transform_filter(\n",
    "    brush\n",
    ")\n",
    "#bar"
   ]
  },
  {
   "cell_type": "code",
   "execution_count": 8,
   "id": "89009d78",
   "metadata": {
    "scrolled": false
   },
   "outputs": [
    {
     "data": {
      "text/html": [
       "\n",
       "<div id=\"altair-viz-f23cffcdcc43461c9e9a7e5f908fb475\"></div>\n",
       "<script type=\"text/javascript\">\n",
       "  var VEGA_DEBUG = (typeof VEGA_DEBUG == \"undefined\") ? {} : VEGA_DEBUG;\n",
       "  (function(spec, embedOpt){\n",
       "    let outputDiv = document.currentScript.previousElementSibling;\n",
       "    if (outputDiv.id !== \"altair-viz-f23cffcdcc43461c9e9a7e5f908fb475\") {\n",
       "      outputDiv = document.getElementById(\"altair-viz-f23cffcdcc43461c9e9a7e5f908fb475\");\n",
       "    }\n",
       "    const paths = {\n",
       "      \"vega\": \"https://cdn.jsdelivr.net/npm//vega@5?noext\",\n",
       "      \"vega-lib\": \"https://cdn.jsdelivr.net/npm//vega-lib?noext\",\n",
       "      \"vega-lite\": \"https://cdn.jsdelivr.net/npm//vega-lite@4.17.0?noext\",\n",
       "      \"vega-embed\": \"https://cdn.jsdelivr.net/npm//vega-embed@6?noext\",\n",
       "    };\n",
       "\n",
       "    function maybeLoadScript(lib, version) {\n",
       "      var key = `${lib.replace(\"-\", \"\")}_version`;\n",
       "      return (VEGA_DEBUG[key] == version) ?\n",
       "        Promise.resolve(paths[lib]) :\n",
       "        new Promise(function(resolve, reject) {\n",
       "          var s = document.createElement('script');\n",
       "          document.getElementsByTagName(\"head\")[0].appendChild(s);\n",
       "          s.async = true;\n",
       "          s.onload = () => {\n",
       "            VEGA_DEBUG[key] = version;\n",
       "            return resolve(paths[lib]);\n",
       "          };\n",
       "          s.onerror = () => reject(`Error loading script: ${paths[lib]}`);\n",
       "          s.src = paths[lib];\n",
       "        });\n",
       "    }\n",
       "\n",
       "    function showError(err) {\n",
       "      outputDiv.innerHTML = `<div class=\"error\" style=\"color:red;\">${err}</div>`;\n",
       "      throw err;\n",
       "    }\n",
       "\n",
       "    function displayChart(vegaEmbed) {\n",
       "      vegaEmbed(outputDiv, spec, embedOpt)\n",
       "        .catch(err => showError(`Javascript Error: ${err.message}<br>This usually means there's a typo in your chart specification. See the javascript console for the full traceback.`));\n",
       "    }\n",
       "\n",
       "    if(typeof define === \"function\" && define.amd) {\n",
       "      requirejs.config({paths});\n",
       "      require([\"vega-embed\"], displayChart, err => showError(`Error loading script: ${err.message}`));\n",
       "    } else {\n",
       "      maybeLoadScript(\"vega\", \"5\")\n",
       "        .then(() => maybeLoadScript(\"vega-lite\", \"4.17.0\"))\n",
       "        .then(() => maybeLoadScript(\"vega-embed\", \"6\"))\n",
       "        .catch(showError)\n",
       "        .then(() => displayChart(vegaEmbed));\n",
       "    }\n",
       "  })({\"config\": {\"view\": {\"continuousWidth\": 400, \"continuousHeight\": 300}}, \"hconcat\": [{\"data\": {\"url\": \"https://raw.githubusercontent.com/TianciZheng/TianciZheng.github.io/main/cleaned_inc5000-2019.csv\"}, \"mark\": \"rect\", \"encoding\": {\"color\": {\"aggregate\": \"count\", \"type\": \"quantitative\"}, \"x\": {\"field\": \"industry\", \"type\": \"ordinal\"}, \"y\": {\"field\": \"state\", \"type\": \"ordinal\"}}, \"height\": 500, \"selection\": {\"selector002\": {\"type\": \"interval\", \"encodings\": [\"x\", \"y\"]}}, \"width\": 400}, {\"data\": {\"url\": \"https://raw.githubusercontent.com/TianciZheng/TianciZheng.github.io/main/cleaned_inc5000-2019.csv\"}, \"mark\": \"bar\", \"encoding\": {\"x\": {\"field\": \"yrs_on_list\", \"sort\": \"-y\", \"title\": \"Years on the list\", \"type\": \"ordinal\"}, \"y\": {\"aggregate\": \"average\", \"field\": \"revenue_in_million\", \"title\": \"Average of revenues in millions\", \"type\": \"quantitative\"}}, \"height\": 500, \"transform\": [{\"filter\": {\"selection\": \"selector002\"}}], \"width\": 300}], \"$schema\": \"https://vega.github.io/schema/vega-lite/v4.17.0.json\"}, {\"mode\": \"vega-lite\"});\n",
       "</script>"
      ],
      "text/plain": [
       "alt.HConcatChart(...)"
      ]
     },
     "execution_count": 8,
     "metadata": {},
     "output_type": "execute_result"
    }
   ],
   "source": [
    "dashboard = heatmap | bar\n",
    "dashboard"
   ]
  },
  {
   "cell_type": "markdown",
   "id": "50f2e0b2",
   "metadata": {},
   "source": [
    "## Dashboard Write-Up\n",
    "\n",
    "The dashboard aims to provide descriptive information about the 5,000 fastest-growing private companies regarding their industry, locations, revenue, and the lengths they have been awarded to this honor in 2019. Specifically, the left graph, which is a heatmap grid, plots out the states that companies locate and their related industries. Viewing the chart horizontally helps people understand the density of different business types per state. On the other hand, looking at the grid vertically can find the distribution of various industries in the United States. \n",
    "As for the right bar chart, the x-axis is the years that companies are on the Inc 5000 lists, and the y-axis is an aggregate measure of the average revenue. The chart depicts potential relationships between two variables and the number of money companies can earn. Moreover, looking at them holistically as the dashboard allows people to use the left grid as a filter to select specific industries or geographic locations so as to see their performances."
   ]
  },
  {
   "cell_type": "markdown",
   "id": "905c9520",
   "metadata": {},
   "source": [
    "## Contextual datasets\n",
    "\n",
    "1. INC 5000 2017\n",
    " - Dataset source: data.world\n",
    " - Data.world Link: https://data.world/aurielle/inc-5000-2017\n",
    " - Size: 696.9 KB (Can be uploaded to GitHub)\n",
    " - Import&download link (via Python/Pandas)： https://query.data.world/s/ibafudomtbuzx4r2ay2ordqeyzvmcf\n",
    " - Write-up: The dataset is about 5,000 fastest companies on Inc 5000 in 2017. It has a similar data structure and information, whereas the major difference is the year. We believe looking at the list from other years can help us find changes in the industry, companies, and revenue in a timely manner. Additionally, a time series analysis and comparison study can be conducted based on it and our original dataset.\n",
    " \n",
    "2. INC 5000 Europe 2019\n",
    " - Dataset source: data.world\n",
    " - Data.world Link: https://data.world/aurielle/inc-5000-europe-2019\n",
    " - Size: 737.86 KB (Can be uploaded to GitHub)\n",
    " - Import&download link (via Python/Pandas)： https://query.data.world/s/opaq7ix3efwckebcns7ls7vifyuhoa\n",
    " - Write-up: Our original data file is about the fastest-growing companies in the United States. And this dataset is talking about 5000 fastest-growing companies in Europe. Using this file can help us review worldwide companies about their industry, revenue, and other necessary information. We are also planning to use it to conduct a comparison study, figuring out the differences between the U.S. companies and European ones.\n"
   ]
  }
 ],
 "metadata": {
  "kernelspec": {
   "display_name": "Python 3 (ipykernel)",
   "language": "python",
   "name": "python3"
  },
  "language_info": {
   "codemirror_mode": {
    "name": "ipython",
    "version": 3
   },
   "file_extension": ".py",
   "mimetype": "text/x-python",
   "name": "python",
   "nbconvert_exporter": "python",
   "pygments_lexer": "ipython3",
   "version": "3.7.12"
  }
 },
 "nbformat": 4,
 "nbformat_minor": 5
}
