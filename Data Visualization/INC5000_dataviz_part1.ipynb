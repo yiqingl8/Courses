{
 "cells": [
  {
   "cell_type": "markdown",
   "id": "9d785f88",
   "metadata": {},
   "source": [
    "# Final Project #Part 1"
   ]
  },
  {
   "cell_type": "markdown",
   "id": "1eca623e",
   "metadata": {},
   "source": [
    "## Dataset introduction\n",
    "In this project we use 'inc5000-2019.csv. It contains the information of 5000 Fastest Growing Pricate Companies in 2009 posted by Inc.com. The dataset comes from data.word.com, url:https://data.world/aurielle/inc-5000-2019. Original data sourced from Inc.com.\n",
    "\n",
    "#### Liscense\n",
    "This dataset is published in the public domain and shared to everyone.So I guess it has the liscnse typ of CC-0 <https://creativecommons.org/share-your-work/licensing-types-examples/public-domain/pdm/>. This license allows me to reuse the database indefinitely for my own work, but not for other people's works by me without permission.\n",
    "#### Dataset size:\n",
    "The dataset is 787KB,  including 5012 rows and 14 columns. There are 8 object columns, 4 int colummns, and 2 float64 columns in the original dataset.I will transform datatype for some columns in the next sections for calculation purpose.\n",
    "\n",
    "| Column| Descriptinon|\n",
    "|---|---|\n",
    "rank: | the ranks in the list of top 5000 Inc\n",
    "Profile:| companies' profile in inc.com website\n",
    "name: | companies' name\n",
    "url: | companies's offical website\n",
    "state: | state location of the company\n",
    "revenue: | total revenues\n",
    "growth: | revenue growth\n",
    "industry: | industry the company belongs to\n",
    "workers: | amount of the workers\n",
    "founded: | founded year\n",
    "yrs_on_list: | How many years the company has been on the list\n",
    "previosu_workers: | total number of former employees\n",
    "metro: | the location of the core industrial area\n",
    "city: | the city location of the company\n"
   ]
  },
  {
   "cell_type": "markdown",
   "id": "6591f3f9",
   "metadata": {},
   "source": [
    "# Data exploratory analytics\n",
    "Here I performed data cleaning and some basic analysis. I want to use these data to observe the development trends of top companies and enterprises, and to dig out some interesting facts."
   ]
  },
  {
   "cell_type": "code",
   "execution_count": 2,
   "id": "bd9e96ec",
   "metadata": {},
   "outputs": [],
   "source": [
    "import pandas as pd\n",
    "import numpy as np\n",
    "import matplotlib.pyplot as plt"
   ]
  },
  {
   "cell_type": "code",
   "execution_count": 3,
   "id": "31c99fdc",
   "metadata": {},
   "outputs": [],
   "source": [
    "df = pd.read_csv('https://query.data.world/s/ht7xdrrd5gmthunpjxb7zg4yj7mymt')"
   ]
  },
  {
   "cell_type": "code",
   "execution_count": 4,
   "id": "b0fb84d3",
   "metadata": {},
   "outputs": [
    {
     "data": {
      "text/html": [
       "<div>\n",
       "<style scoped>\n",
       "    .dataframe tbody tr th:only-of-type {\n",
       "        vertical-align: middle;\n",
       "    }\n",
       "\n",
       "    .dataframe tbody tr th {\n",
       "        vertical-align: top;\n",
       "    }\n",
       "\n",
       "    .dataframe thead th {\n",
       "        text-align: right;\n",
       "    }\n",
       "</style>\n",
       "<table border=\"1\" class=\"dataframe\">\n",
       "  <thead>\n",
       "    <tr style=\"text-align: right;\">\n",
       "      <th></th>\n",
       "      <th>_ - rank</th>\n",
       "      <th>Profile</th>\n",
       "      <th>name</th>\n",
       "      <th>url</th>\n",
       "      <th>state</th>\n",
       "      <th>_ - revenue</th>\n",
       "      <th>_ - growth</th>\n",
       "      <th>_ - industry</th>\n",
       "      <th>_ - workers</th>\n",
       "      <th>_ - founded</th>\n",
       "      <th>_ - yrs_on_list</th>\n",
       "      <th>_ - previous_workers</th>\n",
       "      <th>_ - metro</th>\n",
       "      <th>city</th>\n",
       "    </tr>\n",
       "  </thead>\n",
       "  <tbody>\n",
       "    <tr>\n",
       "      <th>0</th>\n",
       "      <td>1</td>\n",
       "      <td>https://www.inc.com/profile/freestar</td>\n",
       "      <td>Freestar</td>\n",
       "      <td>http://freestar.com</td>\n",
       "      <td>AZ</td>\n",
       "      <td>36.9 Million</td>\n",
       "      <td>36680.3882</td>\n",
       "      <td>Advertising &amp; Marketing</td>\n",
       "      <td>40.0</td>\n",
       "      <td>2015</td>\n",
       "      <td>1</td>\n",
       "      <td>5</td>\n",
       "      <td>Phoenix</td>\n",
       "      <td>Phoenix</td>\n",
       "    </tr>\n",
       "    <tr>\n",
       "      <th>1</th>\n",
       "      <td>2</td>\n",
       "      <td>https://www.inc.com/profile/freightwise</td>\n",
       "      <td>FreightWise</td>\n",
       "      <td>http://freightwisellc.com</td>\n",
       "      <td>TN</td>\n",
       "      <td>33.6 Million</td>\n",
       "      <td>30547.9317</td>\n",
       "      <td>Logistics &amp; Transportation</td>\n",
       "      <td>39.0</td>\n",
       "      <td>2015</td>\n",
       "      <td>1</td>\n",
       "      <td>8</td>\n",
       "      <td>Nashville</td>\n",
       "      <td>Brentwood</td>\n",
       "    </tr>\n",
       "    <tr>\n",
       "      <th>2</th>\n",
       "      <td>3</td>\n",
       "      <td>https://www.inc.com/profile/ceces-veggie</td>\n",
       "      <td>Cece's Veggie Co.</td>\n",
       "      <td>http://cecesveggieco.com</td>\n",
       "      <td>TX</td>\n",
       "      <td>24.9 Million</td>\n",
       "      <td>23880.4852</td>\n",
       "      <td>Food &amp; Beverage</td>\n",
       "      <td>190.0</td>\n",
       "      <td>2015</td>\n",
       "      <td>1</td>\n",
       "      <td>10</td>\n",
       "      <td>Austin</td>\n",
       "      <td>Austin</td>\n",
       "    </tr>\n",
       "  </tbody>\n",
       "</table>\n",
       "</div>"
      ],
      "text/plain": [
       "   _ - rank                                   Profile               name  \\\n",
       "0         1      https://www.inc.com/profile/freestar           Freestar   \n",
       "1         2   https://www.inc.com/profile/freightwise        FreightWise   \n",
       "2         3  https://www.inc.com/profile/ceces-veggie  Cece's Veggie Co.   \n",
       "\n",
       "                         url state   _ - revenue  _ - growth  \\\n",
       "0        http://freestar.com    AZ  36.9 Million  36680.3882   \n",
       "1  http://freightwisellc.com    TN  33.6 Million  30547.9317   \n",
       "2   http://cecesveggieco.com    TX  24.9 Million  23880.4852   \n",
       "\n",
       "                 _ - industry  _ - workers  _ - founded  _ - yrs_on_list  \\\n",
       "0     Advertising & Marketing         40.0         2015                1   \n",
       "1  Logistics & Transportation         39.0         2015                1   \n",
       "2             Food & Beverage        190.0         2015                1   \n",
       "\n",
       "   _ - previous_workers  _ - metro       city  \n",
       "0                     5    Phoenix    Phoenix  \n",
       "1                     8  Nashville  Brentwood  \n",
       "2                    10     Austin     Austin  "
      ]
     },
     "execution_count": 4,
     "metadata": {},
     "output_type": "execute_result"
    }
   ],
   "source": [
    "df.head(3)"
   ]
  },
  {
   "cell_type": "markdown",
   "id": "92d94cf6",
   "metadata": {},
   "source": [
    "## Data Preprocess"
   ]
  },
  {
   "cell_type": "markdown",
   "id": "12465014",
   "metadata": {},
   "source": [
    "* The columns name are not in a good format, we should replace all columns' headers\n",
    "* There might be some null values in each column\n",
    "* The workers column is float. We need to transform it to int format\n",
    "* The revenue column contains 'Million'. We need to remove it and transform the column into numerical value"
   ]
  },
  {
   "cell_type": "code",
   "execution_count": 5,
   "id": "08e100b0",
   "metadata": {},
   "outputs": [
    {
     "name": "stdout",
     "output_type": "stream",
     "text": [
      "<class 'pandas.core.frame.DataFrame'>\n",
      "RangeIndex: 5012 entries, 0 to 5011\n",
      "Data columns (total 14 columns):\n",
      " #   Column                Non-Null Count  Dtype  \n",
      "---  ------                --------------  -----  \n",
      " 0   _ - rank              5012 non-null   int64  \n",
      " 1   Profile               5012 non-null   object \n",
      " 2   name                  5012 non-null   object \n",
      " 3   url                   5012 non-null   object \n",
      " 4   state                 5012 non-null   object \n",
      " 5   _ - revenue           5012 non-null   object \n",
      " 6   _ - growth            5012 non-null   float64\n",
      " 7   _ - industry          5012 non-null   object \n",
      " 8   _ - workers           5011 non-null   float64\n",
      " 9   _ - founded           5012 non-null   int64  \n",
      " 10  _ - yrs_on_list       5012 non-null   int64  \n",
      " 11  _ - previous_workers  5012 non-null   int64  \n",
      " 12  _ - metro             4199 non-null   object \n",
      " 13  city                  5012 non-null   object \n",
      "dtypes: float64(2), int64(4), object(8)\n",
      "memory usage: 548.3+ KB\n"
     ]
    }
   ],
   "source": [
    "df.info()"
   ]
  },
  {
   "cell_type": "markdown",
   "id": "7ef95164",
   "metadata": {},
   "source": [
    "### Clear the format of all columns' headers"
   ]
  },
  {
   "cell_type": "code",
   "execution_count": 6,
   "id": "db4bb094",
   "metadata": {},
   "outputs": [
    {
     "data": {
      "text/html": [
       "<div>\n",
       "<style scoped>\n",
       "    .dataframe tbody tr th:only-of-type {\n",
       "        vertical-align: middle;\n",
       "    }\n",
       "\n",
       "    .dataframe tbody tr th {\n",
       "        vertical-align: top;\n",
       "    }\n",
       "\n",
       "    .dataframe thead th {\n",
       "        text-align: right;\n",
       "    }\n",
       "</style>\n",
       "<table border=\"1\" class=\"dataframe\">\n",
       "  <thead>\n",
       "    <tr style=\"text-align: right;\">\n",
       "      <th></th>\n",
       "      <th>rank</th>\n",
       "      <th>Profile</th>\n",
       "      <th>name</th>\n",
       "      <th>url</th>\n",
       "      <th>state</th>\n",
       "      <th>revenue</th>\n",
       "      <th>growth</th>\n",
       "      <th>industry</th>\n",
       "      <th>workers</th>\n",
       "      <th>founded</th>\n",
       "      <th>yrs_on_list</th>\n",
       "      <th>previous_workers</th>\n",
       "      <th>metro</th>\n",
       "      <th>city</th>\n",
       "    </tr>\n",
       "  </thead>\n",
       "  <tbody>\n",
       "    <tr>\n",
       "      <th>0</th>\n",
       "      <td>1</td>\n",
       "      <td>https://www.inc.com/profile/freestar</td>\n",
       "      <td>Freestar</td>\n",
       "      <td>http://freestar.com</td>\n",
       "      <td>AZ</td>\n",
       "      <td>36.9 Million</td>\n",
       "      <td>36680.3882</td>\n",
       "      <td>Advertising &amp; Marketing</td>\n",
       "      <td>40.0</td>\n",
       "      <td>2015</td>\n",
       "      <td>1</td>\n",
       "      <td>5</td>\n",
       "      <td>Phoenix</td>\n",
       "      <td>Phoenix</td>\n",
       "    </tr>\n",
       "    <tr>\n",
       "      <th>1</th>\n",
       "      <td>2</td>\n",
       "      <td>https://www.inc.com/profile/freightwise</td>\n",
       "      <td>FreightWise</td>\n",
       "      <td>http://freightwisellc.com</td>\n",
       "      <td>TN</td>\n",
       "      <td>33.6 Million</td>\n",
       "      <td>30547.9317</td>\n",
       "      <td>Logistics &amp; Transportation</td>\n",
       "      <td>39.0</td>\n",
       "      <td>2015</td>\n",
       "      <td>1</td>\n",
       "      <td>8</td>\n",
       "      <td>Nashville</td>\n",
       "      <td>Brentwood</td>\n",
       "    </tr>\n",
       "  </tbody>\n",
       "</table>\n",
       "</div>"
      ],
      "text/plain": [
       "   rank                                  Profile         name  \\\n",
       "0     1     https://www.inc.com/profile/freestar     Freestar   \n",
       "1     2  https://www.inc.com/profile/freightwise  FreightWise   \n",
       "\n",
       "                         url state       revenue      growth  \\\n",
       "0        http://freestar.com    AZ  36.9 Million  36680.3882   \n",
       "1  http://freightwisellc.com    TN  33.6 Million  30547.9317   \n",
       "\n",
       "                     industry  workers  founded  yrs_on_list  \\\n",
       "0     Advertising & Marketing     40.0     2015            1   \n",
       "1  Logistics & Transportation     39.0     2015            1   \n",
       "\n",
       "   previous_workers      metro       city  \n",
       "0                 5    Phoenix    Phoenix  \n",
       "1                 8  Nashville  Brentwood  "
      ]
     },
     "execution_count": 6,
     "metadata": {},
     "output_type": "execute_result"
    }
   ],
   "source": [
    "df = df.rename(columns={'_ - rank':'rank', '_ - revenue':'revenue', '_ - growth':'growth', '_ - industry':'industry', '_ - workers':'workers', '_ - founded':'founded', '_ - yrs_on_list':'yrs_on_list', '_ - previous_workers':'previous_workers', '_ - metro':'metro'})\n",
    "df.head(2)"
   ]
  },
  {
   "cell_type": "markdown",
   "id": "d9a40536",
   "metadata": {},
   "source": [
    "### Drop null values in certain colums\n",
    "* Here we only drop null values in workers, because we will not take company with no workers into consideration"
   ]
  },
  {
   "cell_type": "code",
   "execution_count": 7,
   "id": "860e3f30",
   "metadata": {},
   "outputs": [
    {
     "data": {
      "text/plain": [
       "0        40.0\n",
       "1        39.0\n",
       "2       190.0\n",
       "3        57.0\n",
       "4        25.0\n",
       "        ...  \n",
       "5007     88.0\n",
       "5008    380.0\n",
       "5009    187.0\n",
       "5010    132.0\n",
       "5011     27.0\n",
       "Name: workers, Length: 5011, dtype: float64"
      ]
     },
     "execution_count": 7,
     "metadata": {},
     "output_type": "execute_result"
    }
   ],
   "source": [
    "df['workers'].dropna()"
   ]
  },
  {
   "cell_type": "markdown",
   "id": "e8ff91a9",
   "metadata": {},
   "source": [
    "### Transfrom the format of 'workers' from float to int"
   ]
  },
  {
   "cell_type": "code",
   "execution_count": 8,
   "id": "d0fe5bee",
   "metadata": {},
   "outputs": [],
   "source": [
    "#df['workers '] = df['workers'].astype(int)"
   ]
  },
  {
   "cell_type": "markdown",
   "id": "d7656642",
   "metadata": {},
   "source": [
    "Here I ran into a problem: I failed to convert the format, even though I tried several ways to remove/replace null values. So I'm skipping this step for now as I don't need the columns in later analysis."
   ]
  },
  {
   "cell_type": "markdown",
   "id": "dc19c63c",
   "metadata": {},
   "source": [
    "### Clear the format of 'Revenue' , keep the numerical part and output the float type\n",
    "There are two types of measures in the Revenue column, in Billion and Million. To unify the measures, first, we split the columns into a numeric column and a measure columns. Then, for each revenue in billions, we convert it to a value in millions by multiplying by 1000."
   ]
  },
  {
   "cell_type": "code",
   "execution_count": 9,
   "id": "00fe5906",
   "metadata": {},
   "outputs": [
    {
     "data": {
      "text/html": [
       "<div>\n",
       "<style scoped>\n",
       "    .dataframe tbody tr th:only-of-type {\n",
       "        vertical-align: middle;\n",
       "    }\n",
       "\n",
       "    .dataframe tbody tr th {\n",
       "        vertical-align: top;\n",
       "    }\n",
       "\n",
       "    .dataframe thead th {\n",
       "        text-align: right;\n",
       "    }\n",
       "</style>\n",
       "<table border=\"1\" class=\"dataframe\">\n",
       "  <thead>\n",
       "    <tr style=\"text-align: right;\">\n",
       "      <th></th>\n",
       "      <th>rank</th>\n",
       "      <th>Profile</th>\n",
       "      <th>name</th>\n",
       "      <th>url</th>\n",
       "      <th>state</th>\n",
       "      <th>revenue</th>\n",
       "      <th>growth</th>\n",
       "      <th>industry</th>\n",
       "      <th>workers</th>\n",
       "      <th>founded</th>\n",
       "      <th>yrs_on_list</th>\n",
       "      <th>previous_workers</th>\n",
       "      <th>metro</th>\n",
       "      <th>city</th>\n",
       "      <th>revenue_in_million</th>\n",
       "    </tr>\n",
       "  </thead>\n",
       "  <tbody>\n",
       "    <tr>\n",
       "      <th>0</th>\n",
       "      <td>1</td>\n",
       "      <td>https://www.inc.com/profile/freestar</td>\n",
       "      <td>Freestar</td>\n",
       "      <td>http://freestar.com</td>\n",
       "      <td>AZ</td>\n",
       "      <td>36.9 Million</td>\n",
       "      <td>36680.3882</td>\n",
       "      <td>Advertising &amp; Marketing</td>\n",
       "      <td>40.0</td>\n",
       "      <td>2015</td>\n",
       "      <td>1</td>\n",
       "      <td>5</td>\n",
       "      <td>Phoenix</td>\n",
       "      <td>Phoenix</td>\n",
       "      <td>36.9</td>\n",
       "    </tr>\n",
       "    <tr>\n",
       "      <th>1</th>\n",
       "      <td>2</td>\n",
       "      <td>https://www.inc.com/profile/freightwise</td>\n",
       "      <td>FreightWise</td>\n",
       "      <td>http://freightwisellc.com</td>\n",
       "      <td>TN</td>\n",
       "      <td>33.6 Million</td>\n",
       "      <td>30547.9317</td>\n",
       "      <td>Logistics &amp; Transportation</td>\n",
       "      <td>39.0</td>\n",
       "      <td>2015</td>\n",
       "      <td>1</td>\n",
       "      <td>8</td>\n",
       "      <td>Nashville</td>\n",
       "      <td>Brentwood</td>\n",
       "      <td>33.6</td>\n",
       "    </tr>\n",
       "    <tr>\n",
       "      <th>2</th>\n",
       "      <td>3</td>\n",
       "      <td>https://www.inc.com/profile/ceces-veggie</td>\n",
       "      <td>Cece's Veggie Co.</td>\n",
       "      <td>http://cecesveggieco.com</td>\n",
       "      <td>TX</td>\n",
       "      <td>24.9 Million</td>\n",
       "      <td>23880.4852</td>\n",
       "      <td>Food &amp; Beverage</td>\n",
       "      <td>190.0</td>\n",
       "      <td>2015</td>\n",
       "      <td>1</td>\n",
       "      <td>10</td>\n",
       "      <td>Austin</td>\n",
       "      <td>Austin</td>\n",
       "      <td>24.9</td>\n",
       "    </tr>\n",
       "    <tr>\n",
       "      <th>3</th>\n",
       "      <td>4</td>\n",
       "      <td>https://www.inc.com/profile/ladyboss</td>\n",
       "      <td>LadyBoss</td>\n",
       "      <td>http://ladyboss.com</td>\n",
       "      <td>NM</td>\n",
       "      <td>32.4 Million</td>\n",
       "      <td>21849.8925</td>\n",
       "      <td>Consumer Products &amp; Services</td>\n",
       "      <td>57.0</td>\n",
       "      <td>2014</td>\n",
       "      <td>1</td>\n",
       "      <td>2</td>\n",
       "      <td>NaN</td>\n",
       "      <td>Albuquerque</td>\n",
       "      <td>32.4</td>\n",
       "    </tr>\n",
       "    <tr>\n",
       "      <th>4</th>\n",
       "      <td>5</td>\n",
       "      <td>https://www.inc.com/profile/perpay</td>\n",
       "      <td>Perpay</td>\n",
       "      <td>http://perpay.com</td>\n",
       "      <td>PA</td>\n",
       "      <td>22.5 Million</td>\n",
       "      <td>18166.4070</td>\n",
       "      <td>Retail</td>\n",
       "      <td>25.0</td>\n",
       "      <td>2014</td>\n",
       "      <td>1</td>\n",
       "      <td>6</td>\n",
       "      <td>Philadelphia</td>\n",
       "      <td>Philadelphia</td>\n",
       "      <td>22.5</td>\n",
       "    </tr>\n",
       "  </tbody>\n",
       "</table>\n",
       "</div>"
      ],
      "text/plain": [
       "   rank                                   Profile               name  \\\n",
       "0     1      https://www.inc.com/profile/freestar           Freestar   \n",
       "1     2   https://www.inc.com/profile/freightwise        FreightWise   \n",
       "2     3  https://www.inc.com/profile/ceces-veggie  Cece's Veggie Co.   \n",
       "3     4      https://www.inc.com/profile/ladyboss           LadyBoss   \n",
       "4     5        https://www.inc.com/profile/perpay             Perpay   \n",
       "\n",
       "                         url state       revenue      growth  \\\n",
       "0        http://freestar.com    AZ  36.9 Million  36680.3882   \n",
       "1  http://freightwisellc.com    TN  33.6 Million  30547.9317   \n",
       "2   http://cecesveggieco.com    TX  24.9 Million  23880.4852   \n",
       "3        http://ladyboss.com    NM  32.4 Million  21849.8925   \n",
       "4          http://perpay.com    PA  22.5 Million  18166.4070   \n",
       "\n",
       "                       industry  workers  founded  yrs_on_list  \\\n",
       "0       Advertising & Marketing     40.0     2015            1   \n",
       "1    Logistics & Transportation     39.0     2015            1   \n",
       "2               Food & Beverage    190.0     2015            1   \n",
       "3  Consumer Products & Services     57.0     2014            1   \n",
       "4                        Retail     25.0     2014            1   \n",
       "\n",
       "   previous_workers         metro          city  revenue_in_million  \n",
       "0                 5       Phoenix       Phoenix                36.9  \n",
       "1                 8     Nashville     Brentwood                33.6  \n",
       "2                10        Austin        Austin                24.9  \n",
       "3                 2           NaN   Albuquerque                32.4  \n",
       "4                 6  Philadelphia  Philadelphia                22.5  "
      ]
     },
     "execution_count": 9,
     "metadata": {},
     "output_type": "execute_result"
    }
   ],
   "source": [
    "df[['revenue_in_million','measure']] = df.revenue.str.split(expand=True)\n",
    "df['multiple'] = [ 1000 if m=='Billion' else 1 for m in df['measure']]\n",
    "df['revenue_in_million']=df['revenue_in_million'].astype(float)\n",
    "df['revenue_in_million']=df['revenue_in_million']*df['multiple']\n",
    "df[df['measure']=='Billion'].head()\n",
    "df = df.drop(columns={'measure','multiple'})\n",
    "df.head()"
   ]
  },
  {
   "cell_type": "markdown",
   "id": "59ff2749",
   "metadata": {},
   "source": [
    "### Duplicate values\n",
    "* No duplicated values to address"
   ]
  },
  {
   "cell_type": "code",
   "execution_count": 10,
   "id": "1cf9a160",
   "metadata": {},
   "outputs": [
    {
     "data": {
      "text/plain": [
       "0"
      ]
     },
     "execution_count": 10,
     "metadata": {},
     "output_type": "execute_result"
    }
   ],
   "source": [
    "df.duplicated().sum()"
   ]
  },
  {
   "cell_type": "markdown",
   "id": "4c491650",
   "metadata": {},
   "source": [
    "## Data analytics\n",
    "### Analyze industry distribution"
   ]
  },
  {
   "cell_type": "code",
   "execution_count": 11,
   "id": "1d439bed",
   "metadata": {},
   "outputs": [],
   "source": [
    "df_counts = df.groupby('industry')['name'].count().reset_index().sort_values('name', ascending=False)\n",
    "df_counts.set_index('industry', inplace=True)\n",
    "new_df_counts = df_counts['name'].astype(int).head(10)"
   ]
  },
  {
   "cell_type": "code",
   "execution_count": 12,
   "id": "54a687e4",
   "metadata": {},
   "outputs": [
    {
     "data": {
      "text/plain": [
       "<matplotlib.axes._subplots.AxesSubplot at 0x1c0162a4208>"
      ]
     },
     "execution_count": 12,
     "metadata": {},
     "output_type": "execute_result"
    },
    {
     "data": {
      "image/png": "[encoded data removed]",
      "text/plain": [
       "<Figure size 700x800 with 1 Axes>"
      ]
     },
     "metadata": {},
     "output_type": "display_data"
    }
   ],
   "source": [
    "new_df_counts.plot(\n",
    "kind='pie',\n",
    "figsize=(7, 8),\n",
    "autopct='%1.1f%%', \n",
    "startangle=90,     \n",
    "shadow=True, \n",
    ")"
   ]
  },
  {
   "cell_type": "markdown",
   "id": "707b9f60",
   "metadata": {},
   "source": [
    "### Wrap up"
   ]
  },
  {
   "cell_type": "markdown",
   "id": "24605830",
   "metadata": {},
   "source": [
    "We can obtain from the pie chart that the largest proportion of companies is in  Busines Products&Service industry, followed by the advertising marketing industry and Software industry. These 3 industries account for almost 30% of the total."
   ]
  },
  {
   "cell_type": "markdown",
   "id": "4df48a28",
   "metadata": {},
   "source": [
    "### Analyze the distribution of revenue\n",
    "* Find revenue outliers\n",
    "* Find top 10 industry by revenue average"
   ]
  },
  {
   "cell_type": "code",
   "execution_count": 13,
   "id": "63108faa",
   "metadata": {},
   "outputs": [
    {
     "data": {
      "text/plain": [
       "<matplotlib.axes._subplots.AxesSubplot at 0x1c016ba0d08>"
      ]
     },
     "execution_count": 13,
     "metadata": {},
     "output_type": "execute_result"
    },
    {
     "data": {
      "image/png": "[encoded data removed]",
      "text/plain": [
       "<Figure size 640x480 with 1 Axes>"
      ]
     },
     "metadata": {},
     "output_type": "display_data"
    }
   ],
   "source": [
    "df['revenue_in_million'].plot(kind='kde', title='Revenue distribution')"
   ]
  },
  {
   "cell_type": "markdown",
   "id": "dfc78f52",
   "metadata": {},
   "source": [
    "No distinct outliers in the plot"
   ]
  },
  {
   "cell_type": "markdown",
   "id": "942b850d",
   "metadata": {},
   "source": [
    "#### Find the top 10 profitabe industry"
   ]
  },
  {
   "cell_type": "code",
   "execution_count": 14,
   "id": "86f219d5",
   "metadata": {},
   "outputs": [],
   "source": [
    "average_revenue = df.groupby('industry').revenue_in_million.agg(revenue_average='mean').reset_index().sort_values('revenue_average', ascending=False)"
   ]
  },
  {
   "cell_type": "code",
   "execution_count": 15,
   "id": "5f649ed3",
   "metadata": {},
   "outputs": [
    {
     "data": {
      "text/html": [
       "<div>\n",
       "<style scoped>\n",
       "    .dataframe tbody tr th:only-of-type {\n",
       "        vertical-align: middle;\n",
       "    }\n",
       "\n",
       "    .dataframe tbody tr th {\n",
       "        vertical-align: top;\n",
       "    }\n",
       "\n",
       "    .dataframe thead th {\n",
       "        text-align: right;\n",
       "    }\n",
       "</style>\n",
       "<table border=\"1\" class=\"dataframe\">\n",
       "  <thead>\n",
       "    <tr style=\"text-align: right;\">\n",
       "      <th></th>\n",
       "      <th>industry</th>\n",
       "      <th>revenue_average</th>\n",
       "    </tr>\n",
       "  </thead>\n",
       "  <tbody>\n",
       "    <tr>\n",
       "      <th>23</th>\n",
       "      <td>Security</td>\n",
       "      <td>123.747761</td>\n",
       "    </tr>\n",
       "    <tr>\n",
       "      <th>12</th>\n",
       "      <td>Health</td>\n",
       "      <td>109.330056</td>\n",
       "    </tr>\n",
       "    <tr>\n",
       "      <th>18</th>\n",
       "      <td>Logistics &amp; Transportation</td>\n",
       "      <td>101.293011</td>\n",
       "    </tr>\n",
       "    <tr>\n",
       "      <th>6</th>\n",
       "      <td>Energy</td>\n",
       "      <td>80.221795</td>\n",
       "    </tr>\n",
       "    <tr>\n",
       "      <th>13</th>\n",
       "      <td>Human Resources</td>\n",
       "      <td>73.582166</td>\n",
       "    </tr>\n",
       "    <tr>\n",
       "      <th>4</th>\n",
       "      <td>Consumer Products &amp; Services</td>\n",
       "      <td>72.073651</td>\n",
       "    </tr>\n",
       "    <tr>\n",
       "      <th>22</th>\n",
       "      <td>Retail</td>\n",
       "      <td>66.552761</td>\n",
       "    </tr>\n",
       "    <tr>\n",
       "      <th>11</th>\n",
       "      <td>Government Services</td>\n",
       "      <td>59.391949</td>\n",
       "    </tr>\n",
       "    <tr>\n",
       "      <th>17</th>\n",
       "      <td>Insurance</td>\n",
       "      <td>58.742857</td>\n",
       "    </tr>\n",
       "    <tr>\n",
       "      <th>3</th>\n",
       "      <td>Construction</td>\n",
       "      <td>58.422571</td>\n",
       "    </tr>\n",
       "  </tbody>\n",
       "</table>\n",
       "</div>"
      ],
      "text/plain": [
       "                        industry  revenue_average\n",
       "23                      Security       123.747761\n",
       "12                        Health       109.330056\n",
       "18    Logistics & Transportation       101.293011\n",
       "6                         Energy        80.221795\n",
       "13               Human Resources        73.582166\n",
       "4   Consumer Products & Services        72.073651\n",
       "22                        Retail        66.552761\n",
       "11           Government Services        59.391949\n",
       "17                     Insurance        58.742857\n",
       "3                   Construction        58.422571"
      ]
     },
     "execution_count": 15,
     "metadata": {},
     "output_type": "execute_result"
    }
   ],
   "source": [
    "average_revenue.head(10)"
   ]
  },
  {
   "cell_type": "code",
   "execution_count": 16,
   "id": "bea10cd3",
   "metadata": {},
   "outputs": [],
   "source": [
    "average_revenue.set_index('industry', inplace=True)"
   ]
  },
  {
   "cell_type": "code",
   "execution_count": 17,
   "id": "74810492",
   "metadata": {},
   "outputs": [
    {
     "data": {
      "text/plain": [
       "<matplotlib.axes._subplots.AxesSubplot at 0x1c018c55048>"
      ]
     },
     "execution_count": 17,
     "metadata": {},
     "output_type": "execute_result"
    },
    {
     "data": {
      "image/png": "[encoded data removed]",
      "text/plain": [
       "<Figure size 640x480 with 1 Axes>"
      ]
     },
     "metadata": {},
     "output_type": "display_data"
    }
   ],
   "source": [
    "average_revenue.plot(kind='bar')"
   ]
  },
  {
   "cell_type": "markdown",
   "id": "574d5736",
   "metadata": {},
   "source": [
    "### Wrap up"
   ]
  },
  {
   "cell_type": "markdown",
   "id": "7940246c",
   "metadata": {},
   "source": [
    "We can obtain from the bar chart that the most profitable industries are Insurance, follwed by Logistics&Transportation, Health, Energy, Finanica Service.Comparing to previous analysis, it's interesting to find the top 3 industries with the highest proportion are not among the top 10 profitable industries. We can infer that the number of companies in each type of business package is not related to the average turnover of the industry.\n",
    "\n",
    "In addition, it is worth noting that the health industry accounts for a large proportion(ranked 4th)with a high revenue(ranked 3rd), representing a good develpment trends. In order to interpret the dataset more comprehensively, we will explore more dimensions to evaluate the performance of different industries to highlight industries with development potential."
   ]
  },
  {
   "cell_type": "markdown",
   "id": "0a9b8e28",
   "metadata": {},
   "source": [
    "### Pivot Table"
   ]
  },
  {
   "cell_type": "code",
   "execution_count": 18,
   "id": "47bca175",
   "metadata": {},
   "outputs": [],
   "source": [
    "table = pd.pivot_table(df, values='revenue_in_million', index=['state'],\n",
    "                      columns=['industry'], aggfunc=np.mean)"
   ]
  },
  {
   "cell_type": "code",
   "execution_count": 19,
   "id": "65ab5d5f",
   "metadata": {},
   "outputs": [
    {
     "data": {
      "text/html": [
       "<div>\n",
       "<style scoped>\n",
       "    .dataframe tbody tr th:only-of-type {\n",
       "        vertical-align: middle;\n",
       "    }\n",
       "\n",
       "    .dataframe tbody tr th {\n",
       "        vertical-align: top;\n",
       "    }\n",
       "\n",
       "    .dataframe thead th {\n",
       "        text-align: right;\n",
       "    }\n",
       "</style>\n",
       "<table border=\"1\" class=\"dataframe\">\n",
       "  <thead>\n",
       "    <tr style=\"text-align: right;\">\n",
       "      <th>industry</th>\n",
       "      <th>Advertising &amp; Marketing</th>\n",
       "      <th>Business Products &amp; Services</th>\n",
       "      <th>Computer Hardware</th>\n",
       "      <th>Construction</th>\n",
       "      <th>Consumer Products &amp; Services</th>\n",
       "      <th>Education</th>\n",
       "      <th>Energy</th>\n",
       "      <th>Engineering</th>\n",
       "      <th>Environmental Services</th>\n",
       "      <th>Financial Services</th>\n",
       "      <th>...</th>\n",
       "      <th>Insurance</th>\n",
       "      <th>Logistics &amp; Transportation</th>\n",
       "      <th>Manufacturing</th>\n",
       "      <th>Media</th>\n",
       "      <th>Real Estate</th>\n",
       "      <th>Retail</th>\n",
       "      <th>Security</th>\n",
       "      <th>Software</th>\n",
       "      <th>Telecommunications</th>\n",
       "      <th>Travel &amp; Hospitality</th>\n",
       "    </tr>\n",
       "    <tr>\n",
       "      <th>state</th>\n",
       "      <th></th>\n",
       "      <th></th>\n",
       "      <th></th>\n",
       "      <th></th>\n",
       "      <th></th>\n",
       "      <th></th>\n",
       "      <th></th>\n",
       "      <th></th>\n",
       "      <th></th>\n",
       "      <th></th>\n",
       "      <th></th>\n",
       "      <th></th>\n",
       "      <th></th>\n",
       "      <th></th>\n",
       "      <th></th>\n",
       "      <th></th>\n",
       "      <th></th>\n",
       "      <th></th>\n",
       "      <th></th>\n",
       "      <th></th>\n",
       "      <th></th>\n",
       "    </tr>\n",
       "  </thead>\n",
       "  <tbody>\n",
       "    <tr>\n",
       "      <th>AL</th>\n",
       "      <td>7.800000</td>\n",
       "      <td>3.650000</td>\n",
       "      <td>NaN</td>\n",
       "      <td>17.600000</td>\n",
       "      <td>NaN</td>\n",
       "      <td>NaN</td>\n",
       "      <td>NaN</td>\n",
       "      <td>80.216667</td>\n",
       "      <td>41.7</td>\n",
       "      <td>12.000000</td>\n",
       "      <td>...</td>\n",
       "      <td>NaN</td>\n",
       "      <td>12.80</td>\n",
       "      <td>10.000000</td>\n",
       "      <td>4.000000</td>\n",
       "      <td>24.733333</td>\n",
       "      <td>3.100</td>\n",
       "      <td>NaN</td>\n",
       "      <td>NaN</td>\n",
       "      <td>7.650</td>\n",
       "      <td>NaN</td>\n",
       "    </tr>\n",
       "    <tr>\n",
       "      <th>AR</th>\n",
       "      <td>15.800000</td>\n",
       "      <td>NaN</td>\n",
       "      <td>NaN</td>\n",
       "      <td>15.400000</td>\n",
       "      <td>3.700000</td>\n",
       "      <td>NaN</td>\n",
       "      <td>NaN</td>\n",
       "      <td>NaN</td>\n",
       "      <td>NaN</td>\n",
       "      <td>2.600000</td>\n",
       "      <td>...</td>\n",
       "      <td>NaN</td>\n",
       "      <td>NaN</td>\n",
       "      <td>7.400000</td>\n",
       "      <td>NaN</td>\n",
       "      <td>5.600000</td>\n",
       "      <td>27.900</td>\n",
       "      <td>NaN</td>\n",
       "      <td>NaN</td>\n",
       "      <td>NaN</td>\n",
       "      <td>NaN</td>\n",
       "    </tr>\n",
       "    <tr>\n",
       "      <th>AZ</th>\n",
       "      <td>18.883333</td>\n",
       "      <td>36.616667</td>\n",
       "      <td>25.65</td>\n",
       "      <td>29.188889</td>\n",
       "      <td>17.530000</td>\n",
       "      <td>8.400000</td>\n",
       "      <td>47.650000</td>\n",
       "      <td>NaN</td>\n",
       "      <td>NaN</td>\n",
       "      <td>9.640000</td>\n",
       "      <td>...</td>\n",
       "      <td>NaN</td>\n",
       "      <td>33.40</td>\n",
       "      <td>14.814286</td>\n",
       "      <td>NaN</td>\n",
       "      <td>29.714286</td>\n",
       "      <td>34.200</td>\n",
       "      <td>26.066667</td>\n",
       "      <td>23.200000</td>\n",
       "      <td>28.800</td>\n",
       "      <td>5.500000</td>\n",
       "    </tr>\n",
       "    <tr>\n",
       "      <th>CA</th>\n",
       "      <td>20.732584</td>\n",
       "      <td>15.701449</td>\n",
       "      <td>22.20</td>\n",
       "      <td>26.707143</td>\n",
       "      <td>242.967308</td>\n",
       "      <td>47.266667</td>\n",
       "      <td>47.922222</td>\n",
       "      <td>28.177778</td>\n",
       "      <td>52.7</td>\n",
       "      <td>35.429167</td>\n",
       "      <td>...</td>\n",
       "      <td>61.225</td>\n",
       "      <td>26.21</td>\n",
       "      <td>19.372727</td>\n",
       "      <td>13.557143</td>\n",
       "      <td>33.053846</td>\n",
       "      <td>22.475</td>\n",
       "      <td>670.166667</td>\n",
       "      <td>25.144944</td>\n",
       "      <td>55.430</td>\n",
       "      <td>26.255556</td>\n",
       "    </tr>\n",
       "    <tr>\n",
       "      <th>CO</th>\n",
       "      <td>11.033333</td>\n",
       "      <td>15.676923</td>\n",
       "      <td>33.55</td>\n",
       "      <td>94.880000</td>\n",
       "      <td>31.290000</td>\n",
       "      <td>21.833333</td>\n",
       "      <td>32.700000</td>\n",
       "      <td>12.850000</td>\n",
       "      <td>NaN</td>\n",
       "      <td>21.100000</td>\n",
       "      <td>...</td>\n",
       "      <td>NaN</td>\n",
       "      <td>24.95</td>\n",
       "      <td>39.575000</td>\n",
       "      <td>27.500000</td>\n",
       "      <td>10.633333</td>\n",
       "      <td>20.200</td>\n",
       "      <td>14.800000</td>\n",
       "      <td>11.970588</td>\n",
       "      <td>32.025</td>\n",
       "      <td>6.433333</td>\n",
       "    </tr>\n",
       "  </tbody>\n",
       "</table>\n",
       "<p>5 rows × 27 columns</p>\n",
       "</div>"
      ],
      "text/plain": [
       "industry  Advertising & Marketing  Business Products & Services  \\\n",
       "state                                                             \n",
       "AL                       7.800000                      3.650000   \n",
       "AR                      15.800000                           NaN   \n",
       "AZ                      18.883333                     36.616667   \n",
       "CA                      20.732584                     15.701449   \n",
       "CO                      11.033333                     15.676923   \n",
       "\n",
       "industry  Computer Hardware  Construction  Consumer Products & Services  \\\n",
       "state                                                                     \n",
       "AL                      NaN     17.600000                           NaN   \n",
       "AR                      NaN     15.400000                      3.700000   \n",
       "AZ                    25.65     29.188889                     17.530000   \n",
       "CA                    22.20     26.707143                    242.967308   \n",
       "CO                    33.55     94.880000                     31.290000   \n",
       "\n",
       "industry  Education     Energy  Engineering  Environmental Services  \\\n",
       "state                                                                 \n",
       "AL              NaN        NaN    80.216667                    41.7   \n",
       "AR              NaN        NaN          NaN                     NaN   \n",
       "AZ         8.400000  47.650000          NaN                     NaN   \n",
       "CA        47.266667  47.922222    28.177778                    52.7   \n",
       "CO        21.833333  32.700000    12.850000                     NaN   \n",
       "\n",
       "industry  Financial Services  ...  Insurance  Logistics & Transportation  \\\n",
       "state                         ...                                          \n",
       "AL                 12.000000  ...        NaN                       12.80   \n",
       "AR                  2.600000  ...        NaN                         NaN   \n",
       "AZ                  9.640000  ...        NaN                       33.40   \n",
       "CA                 35.429167  ...     61.225                       26.21   \n",
       "CO                 21.100000  ...        NaN                       24.95   \n",
       "\n",
       "industry  Manufacturing      Media  Real Estate  Retail    Security  \\\n",
       "state                                                                 \n",
       "AL            10.000000   4.000000    24.733333   3.100         NaN   \n",
       "AR             7.400000        NaN     5.600000  27.900         NaN   \n",
       "AZ            14.814286        NaN    29.714286  34.200   26.066667   \n",
       "CA            19.372727  13.557143    33.053846  22.475  670.166667   \n",
       "CO            39.575000  27.500000    10.633333  20.200   14.800000   \n",
       "\n",
       "industry   Software  Telecommunications  Travel & Hospitality  \n",
       "state                                                          \n",
       "AL              NaN               7.650                   NaN  \n",
       "AR              NaN                 NaN                   NaN  \n",
       "AZ        23.200000              28.800              5.500000  \n",
       "CA        25.144944              55.430             26.255556  \n",
       "CO        11.970588              32.025              6.433333  \n",
       "\n",
       "[5 rows x 27 columns]"
      ]
     },
     "execution_count": 19,
     "metadata": {},
     "output_type": "execute_result"
    }
   ],
   "source": [
    "table.head()"
   ]
  }
 ],
 "metadata": {
  "kernelspec": {
   "display_name": "Python 3 (ipykernel)",
   "language": "python",
   "name": "python3"
  },
  "language_info": {
   "codemirror_mode": {
    "name": "ipython",
    "version": 3
   },
   "file_extension": ".py",
   "mimetype": "text/x-python",
   "name": "python",
   "nbconvert_exporter": "python",
   "pygments_lexer": "ipython3",
   "version": "3.7.12"
  }
 },
 "nbformat": 4,
 "nbformat_minor": 5
}
